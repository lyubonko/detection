{
 "cells": [
  {
   "cell_type": "code",
   "execution_count": null,
   "metadata": {},
   "outputs": [],
   "source": [
    "# --- preliminaries\n",
    "# to make interactive plotting possible\n",
    "%matplotlib inline\n",
    "# for auto-reloading external modules\n",
    "%load_ext autoreload\n",
    "%autoreload 2\n",
    "\n",
    "import matplotlib.pyplot as plt\n",
    "import os\n",
    "import sys\n",
    "import numpy as np\n",
    "\n",
    "# make plots a bit nicer\n",
    "plt.matplotlib.rcParams.update({'font.size': 18, 'font.family': 'serif'})"
   ]
  },
  {
   "cell_type": "code",
   "execution_count": null,
   "metadata": {},
   "outputs": [],
   "source": [
    "# specify paths\n",
    "pathes = {}\n",
    "pathes['project_root'] = '../'\n",
    "pathes['project_root'] = os.path.abspath(pathes['project_root'])\n",
    "pathes['source'] = 'utils/'\n",
    "#pathes['log'] = os.path.join(pathes['project_root'], 'experiments/logs/') \n",
    "pathes['log'] = '/home/andrii/Downloads/detection_new/some_logs'\n",
    "pathes['save'] = os.path.join(pathes['project_root'], 'materials/results/figs') \n",
    "\n",
    "# --- check pathes\n",
    "for (n,p) in pathes.items():\n",
    "    if not os.path.exists(p):\n",
    "        print(p)\n",
    "        raise"
   ]
  },
  {
   "cell_type": "code",
   "execution_count": null,
   "metadata": {},
   "outputs": [],
   "source": [
    "sys.path.append(pathes['source'])"
   ]
  },
  {
   "cell_type": "code",
   "execution_count": null,
   "metadata": {},
   "outputs": [],
   "source": [
    "from utils.log_utils import parse_log_file"
   ]
  },
  {
   "cell_type": "code",
   "execution_count": null,
   "metadata": {},
   "outputs": [],
   "source": [
    "# save images or not\n",
    "#make_save = False"
   ]
  },
  {
   "cell_type": "code",
   "execution_count": null,
   "metadata": {},
   "outputs": [],
   "source": [
    "expr_prefix = \"E\""
   ]
  },
  {
   "cell_type": "code",
   "execution_count": null,
   "metadata": {},
   "outputs": [],
   "source": [
    "#num_exprs = list(range(22,32))\n",
    "num_exprs = [3,4,5]\n",
    "\n",
    "data_epoch = {}\n",
    "data_iter = {}\n",
    "data_epoch_test = {}\n",
    "for i in num_exprs:\n",
    "    expr_name = expr_prefix + str(i).zfill(4)\n",
    "    file_log_epoch = os.path.join(pathes['log'], expr_name, expr_name + \"_log_epoch.txt\")\n",
    "    file_log_epoch_test = os.path.join(pathes['log'], expr_name, expr_name + \"_log_epoch_test.txt\")\n",
    "    file_log_iter = os.path.join(pathes['log'], expr_name, expr_name + \"_log_iter.txt\")\n",
    "\n",
    "    data_epoch[i] = parse_log_file(file_log_epoch)\n",
    "    data_epoch_test[i] = parse_log_file(file_log_epoch_test)\n",
    "    data_iter[i] = parse_log_file(file_log_iter)"
   ]
  },
  {
   "cell_type": "code",
   "execution_count": null,
   "metadata": {},
   "outputs": [],
   "source": [
    "for i in num_exprs:\n",
    "    print(max(data_epoch_test[i]['bbox_mAP']))"
   ]
  },
  {
   "cell_type": "code",
   "execution_count": null,
   "metadata": {},
   "outputs": [],
   "source": [
    "styles = ['.-c', '.-m', '.-b', '.-r', '.-g', '.-y', '.-k', '*-r']"
   ]
  },
  {
   "cell_type": "code",
   "execution_count": null,
   "metadata": {},
   "outputs": [],
   "source": [
    "make_save = False"
   ]
  },
  {
   "cell_type": "code",
   "execution_count": null,
   "metadata": {},
   "outputs": [],
   "source": [
    "exp_of_interest = [3, 4, 5]"
   ]
  },
  {
   "cell_type": "code",
   "execution_count": null,
   "metadata": {},
   "outputs": [],
   "source": [
    "quantity = 'loss_box_reg' # 'loss', 'loss_box_reg', 'loss_classifier', 'loss_mask', 'loss_objectness', 'loss_rpn_box_reg', 'lr'\n",
    "iter_epoch = 'epoch' # 'iter' or 'epoch'\n",
    "\n",
    "if iter_epoch == 'iter':\n",
    "    data_inspect = data_iter\n",
    "else:\n",
    "    data_inspect = data_epoch\n",
    "\n",
    "fig = plt.figure(figsize=(10, 5))\n",
    "ax = fig.add_subplot(111)\n",
    "\n",
    "for (i,e) in enumerate(exp_of_interest):\n",
    "    expr_name = \"e\" + str(e).zfill(4)\n",
    "    ax.plot(data_inspect[e][iter_epoch], data_inspect[e][quantity], \n",
    "             styles[i], label=\"[\" + expr_name + \"]\")\n",
    "\n",
    "ax.set_xlabel(\"# \" + iter_epoch)\n",
    "ax.set_ylabel(quantity)\n",
    "ax.set_title(\"[train] \" + quantity)\n",
    "ax.grid()\n",
    "\n",
    "handles, labels = ax.get_legend_handles_labels()\n",
    "lgd = ax.legend(handles, labels, loc='best', bbox_to_anchor=(1.05, 1))\n",
    "\n",
    "prefix_name = \",\".join([\"e\" + str(i).zfill(4) for i in exp_of_interest])\n",
    "file_save = os.path.join(pathes['save'], prefix_name + \"_train_loss_iter.png\")\n",
    "print(file_save)\n",
    "if make_save:\n",
    "    plt.savefig(file_save, bbox_extra_artists=(lgd,), bbox_inches='tight', dpi=300)"
   ]
  },
  {
   "cell_type": "code",
   "execution_count": null,
   "metadata": {},
   "outputs": [],
   "source": [
    "quantity = 'bbox_mAP'   # 'segm_mAP' or 'bbox_mAP'\n",
    "\n",
    "fig = plt.figure(figsize=(10, 5))\n",
    "ax = fig.add_subplot(111)\n",
    "\n",
    "for (i,e) in enumerate(exp_of_interest):\n",
    "    expr_name = \"e\" + str(e).zfill(4)\n",
    "    ax.plot(data_epoch_test[e]['epoch'], data_epoch_test[e][quantity], \n",
    "             styles[i], label=\"[\" + expr_name + \"]\")\n",
    "\n",
    "ax.set_xlabel(\"# epoch\")\n",
    "#ax.set_ylabel(\"accuracy\")\n",
    "ax.set_title(\"[test] \" + quantity)\n",
    "ax.grid()\n",
    "\n",
    "handles, labels = ax.get_legend_handles_labels()\n",
    "lgd = ax.legend(handles, labels, loc='best', bbox_to_anchor=(1.05, 1))\n",
    "\n",
    "prefix_name = \",\".join([\"e\" + str(i).zfill(4) for i in exp_of_interest])\n",
    "file_save = os.path.join(pathes['save'], prefix_name + \"_train_loss_iter.png\")\n",
    "print(file_save)\n",
    "if make_save:\n",
    "    plt.savefig(file_save, bbox_extra_artists=(lgd,), bbox_inches='tight', dpi=300)"
   ]
  },
  {
   "cell_type": "code",
   "execution_count": null,
   "metadata": {},
   "outputs": [],
   "source": []
  },
  {
   "cell_type": "code",
   "execution_count": null,
   "metadata": {},
   "outputs": [],
   "source": []
  },
  {
   "cell_type": "code",
   "execution_count": null,
   "metadata": {},
   "outputs": [],
   "source": []
  }
 ],
 "metadata": {
  "kernelspec": {
   "display_name": "Python 3",
   "language": "python",
   "name": "python3"
  },
  "language_info": {
   "codemirror_mode": {
    "name": "ipython",
    "version": 3
   },
   "file_extension": ".py",
   "mimetype": "text/x-python",
   "name": "python",
   "nbconvert_exporter": "python",
   "pygments_lexer": "ipython3",
   "version": "3.6.8"
  }
 },
 "nbformat": 4,
 "nbformat_minor": 4
}

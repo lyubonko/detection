{
 "cells": [
  {
   "cell_type": "markdown",
   "metadata": {},
   "source": [
    "# Dataset analysis"
   ]
  },
  {
   "cell_type": "markdown",
   "metadata": {},
   "source": [
    "### Imports"
   ]
  },
  {
   "cell_type": "code",
   "execution_count": 1,
   "metadata": {},
   "outputs": [],
   "source": [
    "# to make interactive plotting possible\n",
    "%matplotlib inline\n",
    "# for auto-reloading external modules\n",
    "%load_ext autoreload\n",
    "%autoreload 2"
   ]
  },
  {
   "cell_type": "code",
   "execution_count": 2,
   "metadata": {},
   "outputs": [],
   "source": [
    "import os\n",
    "import sys\n",
    "import numpy as np\n",
    "import matplotlib.pyplot as plt"
   ]
  },
  {
   "cell_type": "code",
   "execution_count": 3,
   "metadata": {
    "tags": []
   },
   "outputs": [],
   "source": [
    "import json\n",
    "import fiftyone as fo"
   ]
  },
  {
   "cell_type": "markdown",
   "metadata": {
    "tags": []
   },
   "source": [
    "### Custom plotting"
   ]
  },
  {
   "cell_type": "code",
   "execution_count": 4,
   "metadata": {
    "tags": []
   },
   "outputs": [],
   "source": [
    "from PIL import Image\n",
    "from matplotlib.patches import Rectangle"
   ]
  },
  {
   "cell_type": "code",
   "execution_count": 5,
   "metadata": {
    "tags": []
   },
   "outputs": [],
   "source": [
    "def plot_boxes(ax, bboxes):\n",
    "    ax.add_patch(\n",
    "        Rectangle((bboxes[0], bboxes[1]),  # (x,y)\n",
    "                  bboxes[2],  # width\n",
    "                  bboxes[3],  # height\n",
    "                  alpha=1,\n",
    "                  facecolor='none',\n",
    "                  edgecolor='red',  # color\n",
    "                  linewidth=1))"
   ]
  },
  {
   "cell_type": "code",
   "execution_count": 7,
   "metadata": {
    "tags": []
   },
   "outputs": [],
   "source": [
    "img_path = '/Users/andriiliubonko/workspace/data/soda_a/Images/00001.jpg'\n",
    "img = Image.open(img_path).convert('RGB')\n",
    "bboxes = [235.0841064453125, 2529.2451171875, 21.561431884765625, 27.17333984375]"
   ]
  },
  {
   "cell_type": "code",
   "execution_count": 9,
   "metadata": {
    "tags": []
   },
   "outputs": [],
   "source": [
    "# fig_size = 10\n",
    "# _ = plt.figure(figsize=(fig_size, fig_size))\n",
    "# ax = plt.subplot()\n",
    "# ax.set_aspect('equal')\n",
    "# plot_boxes(ax, bboxes)\n",
    "# plt.imshow(img)"
   ]
  },
  {
   "cell_type": "markdown",
   "metadata": {
    "jp-MarkdownHeadingCollapsed": true,
    "tags": []
   },
   "source": [
    "### First Dataset"
   ]
  },
  {
   "cell_type": "code",
   "execution_count": 4,
   "metadata": {
    "tags": []
   },
   "outputs": [],
   "source": [
    "# Create an empty dataset\n",
    "dataset = fo.Dataset(\"test-dataset\")"
   ]
  },
  {
   "cell_type": "code",
   "execution_count": 5,
   "metadata": {
    "tags": []
   },
   "outputs": [
    {
     "name": "stdout",
     "output_type": "stream",
     "text": [
      "Name:        test-dataset\n",
      "Media type:  None\n",
      "Num samples: 0\n",
      "Persistent:  False\n",
      "Tags:        []\n",
      "Sample fields:\n",
      "    id:       fiftyone.core.fields.ObjectIdField\n",
      "    filepath: fiftyone.core.fields.StringField\n",
      "    tags:     fiftyone.core.fields.ListField(fiftyone.core.fields.StringField)\n",
      "    metadata: fiftyone.core.fields.EmbeddedDocumentField(fiftyone.core.metadata.Metadata)\n"
     ]
    }
   ],
   "source": [
    "print(dataset)"
   ]
  },
  {
   "cell_type": "markdown",
   "metadata": {
    "jp-MarkdownHeadingCollapsed": true,
    "tags": []
   },
   "source": [
    "### COCO"
   ]
  },
  {
   "cell_type": "markdown",
   "metadata": {},
   "source": [
    "https://colab.research.google.com/github/voxel51/fiftyone-examples/blob/master/examples/quickstart.ipynb#scrollTo=sDRyBGZgzAz4"
   ]
  },
  {
   "cell_type": "markdown",
   "metadata": {},
   "source": [
    "**pycocotools** should be installed \n",
    "```\n",
    "> pip install pycocotools\n",
    "```"
   ]
  },
  {
   "cell_type": "code",
   "execution_count": null,
   "metadata": {},
   "outputs": [],
   "source": []
  },
  {
   "cell_type": "code",
   "execution_count": 62,
   "metadata": {
    "tags": []
   },
   "outputs": [],
   "source": [
    "ds_name = 'coco-val'\n",
    "ds_imgs_dir = '/Users/andriiliubonko/workspace/data/coco/val2017/'\n",
    "ds_labels = '/Users/andriiliubonko/workspace/data/coco/annotations/instances_val2017.json'\n",
    "ds_type = fo.types.COCODetectionDataset"
   ]
  },
  {
   "cell_type": "code",
   "execution_count": 66,
   "metadata": {
    "tags": []
   },
   "outputs": [
    {
     "name": "stdout",
     "output_type": "stream",
     "text": []
    },
    {
     "name": "stdout",
     "output_type": "stream",
     "text": [
      " 100% |███████████████| 5000/5000 [1.2m elapsed, 0s remaining, 65.5 samples/s]      \n"
     ]
    }
   ],
   "source": [
    "dataset = fo.Dataset.from_dir(\n",
    "    dataset_type=ds_type,\n",
    "    data_path=ds_imgs_dir,\n",
    "    labels_path=ds_labels,\n",
    ")"
   ]
  },
  {
   "cell_type": "code",
   "execution_count": 67,
   "metadata": {
    "tags": []
   },
   "outputs": [
    {
     "name": "stdout",
     "output_type": "stream",
     "text": [
      "Name:        2023.08.29.22.34.13\n",
      "Media type:  image\n",
      "Num samples: 5000\n",
      "Persistent:  False\n",
      "Tags:        []\n",
      "Sample fields:\n",
      "    id:            fiftyone.core.fields.ObjectIdField\n",
      "    filepath:      fiftyone.core.fields.StringField\n",
      "    tags:          fiftyone.core.fields.ListField(fiftyone.core.fields.StringField)\n",
      "    metadata:      fiftyone.core.fields.EmbeddedDocumentField(fiftyone.core.metadata.ImageMetadata)\n",
      "    detections:    fiftyone.core.fields.EmbeddedDocumentField(fiftyone.core.labels.Detections)\n",
      "    segmentations: fiftyone.core.fields.EmbeddedDocumentField(fiftyone.core.labels.Detections)\n"
     ]
    }
   ],
   "source": [
    "print(dataset)"
   ]
  },
  {
   "cell_type": "code",
   "execution_count": 4,
   "metadata": {
    "tags": []
   },
   "outputs": [],
   "source": [
    "#session = fo.launch_app(dataset)"
   ]
  },
  {
   "cell_type": "code",
   "execution_count": null,
   "metadata": {},
   "outputs": [],
   "source": []
  },
  {
   "cell_type": "markdown",
   "metadata": {
    "tags": []
   },
   "source": [
    "### SOTA-A"
   ]
  },
  {
   "cell_type": "markdown",
   "metadata": {},
   "source": [
    "**More correct way to go** \n",
    "https://docs.voxel51.com/recipes/custom_importer.html?highlight=metadata%20sample\n"
   ]
  },
  {
   "cell_type": "code",
   "execution_count": 4,
   "metadata": {
    "tags": []
   },
   "outputs": [],
   "source": [
    "def poly2hbb(polys, hw=None):\n",
    "    \"\"\"Convert polygons to horizontal polys.\n",
    "\n",
    "    Args:\n",
    "        polys (np.array): Polygons with shape (N, 8)\n",
    "\n",
    "    Returns:\n",
    "        np.array: Horizontal polys.\n",
    "        \n",
    "    Source, with small modifications:\n",
    "        https://github.com/shaunyuan22/SODA-mmrotate/blob/main/tools/data/sodaa/sodaa_split.py\n",
    "    \"\"\"\n",
    "    shape = polys.shape\n",
    "    polys = polys.reshape(*shape[:-1], shape[-1] // 2, 2)\n",
    "    lt_point = np.min(polys, axis=-2)\n",
    "    rb_point = np.max(polys, axis=-2)\n",
    "    \n",
    "    if hw:\n",
    "        h,w = hw\n",
    "        lt_point[0] /= w\n",
    "        lt_point[1] /= h\n",
    "        rb_point[0] /= w\n",
    "        rb_point[1] /= h        \n",
    "    \n",
    "    return np.concatenate([lt_point, rb_point - lt_point], axis=-1)"
   ]
  },
  {
   "cell_type": "code",
   "execution_count": 5,
   "metadata": {
    "tags": []
   },
   "outputs": [],
   "source": [
    "ds_name = 'sota-a'\n",
    "ds_imgs_dir = '/Users/andriiliubonko/workspace/data/soda_a/Images/'\n",
    "ds_anns_dir = '/Users/andriiliubonko/workspace/data/soda_a/Annotations/'"
   ]
  },
  {
   "cell_type": "code",
   "execution_count": 6,
   "metadata": {
    "tags": []
   },
   "outputs": [],
   "source": [
    "with open(os.path.join(ds_anns_dir, 'train', '00001.json'), 'r') as file:\n",
    "    ann_data = json.load(file)\n",
    "    \n",
    "height, width = (ann_data['images']['height'], ann_data['images']['width'])\n",
    "image_metadata = fo.ImageMetadata(\n",
    "            width=width,\n",
    "            height=height,\n",
    "        )\n",
    "\n",
    "category_map = {cat['id']:cat['name'] for cat in ann_data['categories']} "
   ]
  },
  {
   "cell_type": "code",
   "execution_count": 7,
   "metadata": {
    "tags": []
   },
   "outputs": [
    {
     "data": {
      "text/plain": [
       "dict_keys(['type', 'images', 'annotations', 'categories'])"
      ]
     },
     "execution_count": 7,
     "metadata": {},
     "output_type": "execute_result"
    }
   ],
   "source": [
    "ann_data.keys()"
   ]
  },
  {
   "cell_type": "code",
   "execution_count": 8,
   "metadata": {
    "tags": []
   },
   "outputs": [
    {
     "name": "stdout",
     "output_type": "stream",
     "text": [
      "instance \n",
      "\n",
      "{'file_name': '00001.jpg', 'height': 2744, 'width': 4800, 'id': 1} \n",
      "\n",
      "{'poly': [235.0841064453125, 2551.818359375, 249.3841552734375, 2556.41845703125, 256.6455383300781, 2533.84521484375, 242.34548950195312, 2529.2451171875], 'area': 356.2015366703272, 'category_id': 0, 'image_id': 1, 'id': 1} \n",
      "\n",
      "[{'id': 0, 'name': 'airplane'}, {'id': 1, 'name': 'helicopter'}, {'id': 2, 'name': 'small-vehicle'}, {'id': 3, 'name': 'large-vehicle'}, {'id': 4, 'name': 'ship'}, {'id': 5, 'name': 'container'}, {'id': 6, 'name': 'storage-tank'}, {'id': 7, 'name': 'swimming-pool'}, {'id': 8, 'name': 'windmill'}, {'id': 9, 'name': 'ignore'}] \n",
      "\n"
     ]
    }
   ],
   "source": [
    "print(ann_data['type'], '\\n')\n",
    "print(ann_data['images'], '\\n')\n",
    "print(ann_data['annotations'][0], '\\n')\n",
    "print(ann_data['categories'], '\\n')"
   ]
  },
  {
   "cell_type": "code",
   "execution_count": 24,
   "metadata": {
    "tags": []
   },
   "outputs": [],
   "source": [
    "samples = []\n",
    "sample = fo.Sample(filepath=os.path.join(ds_imgs_dir, ann_data['images']['file_name']),\n",
    "                  metadata=image_metadata)"
   ]
  },
  {
   "cell_type": "code",
   "execution_count": 25,
   "metadata": {
    "tags": []
   },
   "outputs": [],
   "source": [
    "#print(sample)"
   ]
  },
  {
   "cell_type": "code",
   "execution_count": 26,
   "metadata": {
    "tags": []
   },
   "outputs": [],
   "source": [
    "detections = []\n",
    "for ann in ann_data['annotations']:\n",
    "\n",
    "    label=category_map[ann['category_id']]\n",
    "    bounding_box  = poly2hbb(np.array(ann['poly']), hw=(height, width))\n",
    "    \n",
    "    detections.append(\n",
    "        fo.Detection(label=label, bounding_box=bounding_box, area=ann['area'])\n",
    "    )\n",
    "sample[\"ground_truth\"] = fo.Detections(detections=detections)"
   ]
  },
  {
   "cell_type": "code",
   "execution_count": 27,
   "metadata": {
    "tags": []
   },
   "outputs": [],
   "source": [
    "samples.append(sample)"
   ]
  },
  {
   "cell_type": "code",
   "execution_count": 28,
   "metadata": {
    "tags": []
   },
   "outputs": [
    {
     "name": "stdout",
     "output_type": "stream",
     "text": []
    },
    {
     "name": "stdout",
     "output_type": "stream",
     "text": [
      " 100% |█████████████████████| 1/1 [138.7ms elapsed, 0s remaining, 7.3 samples/s] \n"
     ]
    },
    {
     "data": {
      "text/plain": [
       "['64efb0dd3905162940d5e54a']"
      ]
     },
     "execution_count": 28,
     "metadata": {},
     "output_type": "execute_result"
    }
   ],
   "source": [
    "dataset = fo.Dataset(\"sota-a\")\n",
    "dataset.add_samples(samples)"
   ]
  },
  {
   "cell_type": "code",
   "execution_count": 29,
   "metadata": {
    "tags": []
   },
   "outputs": [
    {
     "name": "stdout",
     "output_type": "stream",
     "text": [
      "Name:        sota-a\n",
      "Media type:  image\n",
      "Num samples: 1\n",
      "Persistent:  False\n",
      "Tags:        []\n",
      "Sample fields:\n",
      "    id:           fiftyone.core.fields.ObjectIdField\n",
      "    filepath:     fiftyone.core.fields.StringField\n",
      "    tags:         fiftyone.core.fields.ListField(fiftyone.core.fields.StringField)\n",
      "    metadata:     fiftyone.core.fields.EmbeddedDocumentField(fiftyone.core.metadata.ImageMetadata)\n",
      "    ground_truth: fiftyone.core.fields.EmbeddedDocumentField(fiftyone.core.labels.Detections)\n"
     ]
    }
   ],
   "source": [
    "print(dataset)"
   ]
  },
  {
   "cell_type": "code",
   "execution_count": 31,
   "metadata": {
    "tags": []
   },
   "outputs": [],
   "source": [
    "#session = fo.launch_app(dataset)"
   ]
  },
  {
   "cell_type": "code",
   "execution_count": null,
   "metadata": {},
   "outputs": [],
   "source": []
  },
  {
   "cell_type": "code",
   "execution_count": null,
   "metadata": {},
   "outputs": [],
   "source": []
  }
 ],
 "metadata": {
  "kernelspec": {
   "display_name": "py39",
   "language": "python",
   "name": "py39"
  },
  "language_info": {
   "codemirror_mode": {
    "name": "ipython",
    "version": 3
   },
   "file_extension": ".py",
   "mimetype": "text/x-python",
   "name": "python",
   "nbconvert_exporter": "python",
   "pygments_lexer": "ipython3",
   "version": "3.9.17"
  }
 },
 "nbformat": 4,
 "nbformat_minor": 4
}

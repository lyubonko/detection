{
 "cells": [
  {
   "cell_type": "markdown",
   "metadata": {},
   "source": [
    "# Dataset analysis"
   ]
  },
  {
   "cell_type": "markdown",
   "metadata": {},
   "source": [
    "### Imports"
   ]
  },
  {
   "cell_type": "code",
   "execution_count": null,
   "metadata": {},
   "outputs": [],
   "source": [
    "# to make interactive plotting possible\n",
    "%matplotlib inline\n",
    "# for auto-reloading external modules\n",
    "%load_ext autoreload\n",
    "%autoreload 2"
   ]
  },
  {
   "cell_type": "code",
   "execution_count": null,
   "metadata": {},
   "outputs": [],
   "source": [
    "import os\n",
    "import sys\n",
    "import numpy as np\n",
    "import matplotlib.pyplot as plt"
   ]
  },
  {
   "cell_type": "code",
   "execution_count": null,
   "metadata": {},
   "outputs": [],
   "source": [
    "# specify paths\n",
    "pathes = {}\n",
    "pathes['project_root'] = '../'\n",
    "pathes['project_root'] = os.path.abspath(pathes['project_root'])\n",
    "pathes['source_1'] = os.path.join(pathes['project_root'], 'src/thirdparty/cocoapi/PythonAPI/')\n",
    "pathes['source_2'] = os.path.join(pathes['project_root'], 'src/datasets')\n",
    "\n",
    "# --- check pathes\n",
    "for (n,p) in pathes.items():\n",
    "    if not os.path.exists(p):\n",
    "        print(p)\n",
    "        raise"
   ]
  },
  {
   "cell_type": "code",
   "execution_count": null,
   "metadata": {},
   "outputs": [],
   "source": [
    "sys.path.append(pathes['source_1'])\n",
    "sys.path.append(pathes['source_2'])"
   ]
  },
  {
   "cell_type": "code",
   "execution_count": null,
   "metadata": {},
   "outputs": [],
   "source": [
    "from pycocotools.coco import COCO\n",
    "from coco_to_pd import coco_ann_to_pd, coco_pred_to_pd, extract_info"
   ]
  },
  {
   "cell_type": "markdown",
   "metadata": {},
   "source": [
    "### Load coco annotation file and transform to pandas df"
   ]
  },
  {
   "cell_type": "code",
   "execution_count": null,
   "metadata": {},
   "outputs": [],
   "source": [
    "path_data_gt = '/media/andrii/earth/work/data/MS_COCO'\n",
    "image_gt_dir = os.path.join(path_data_gt, 'val2017/')\n",
    "ann_file = os.path.join(path_data_gt, 'annotations', 'instances_val2017.json')"
   ]
  },
  {
   "cell_type": "code",
   "execution_count": null,
   "metadata": {},
   "outputs": [],
   "source": [
    "image_path = os.path.join(path_data_gt, image_gt_dir)"
   ]
  },
  {
   "cell_type": "code",
   "execution_count": null,
   "metadata": {},
   "outputs": [],
   "source": [
    "# coco ground truth\n",
    "coco=COCO(ann_file)\n",
    "df = coco_ann_to_pd(coco, image_path) # to pd"
   ]
  },
  {
   "cell_type": "code",
   "execution_count": null,
   "metadata": {},
   "outputs": [],
   "source": [
    "df.head(10)"
   ]
  },
  {
   "cell_type": "markdown",
   "metadata": {},
   "source": [
    "### General statistics"
   ]
  },
  {
   "cell_type": "code",
   "execution_count": null,
   "metadata": {},
   "outputs": [],
   "source": [
    "print(\"Number of boxes in the dataset: {}\".format(len(df)))\n",
    "print(\"Number of images: {}\".format(len(df['image_id'].unique())))"
   ]
  },
  {
   "cell_type": "code",
   "execution_count": null,
   "metadata": {},
   "outputs": [],
   "source": [
    "boxes_per_class = df['box_class'].value_counts()\n",
    "all_classes = boxes_per_class.index.values\n",
    "print(\"Number of classes: {}\".format(len(all_classes)))\n",
    "print(\"Classes: \\n{}\".format(all_classes))"
   ]
  },
  {
   "cell_type": "code",
   "execution_count": null,
   "metadata": {},
   "outputs": [],
   "source": [
    "# Number of boxes and images per class\n",
    "grouped = df.groupby('box_class')\n",
    "print('Class'.ljust(20) + '# images'.ljust(10) + '# boxes'.ljust(10) + '# boxes / # images'.ljust(10))\n",
    "print('='*60)\n",
    "for cl, df_cl in grouped:\n",
    "    n_images = len(df_cl['image_id'].unique())\n",
    "    n_boxes = len(df_cl['image_id'])    \n",
    "    \n",
    "    print(cl.ljust(20) + str(n_images).ljust(10) + str(n_boxes).ljust(10) + str(n_boxes/n_images).ljust(10))\n",
    "    \n",
    "\n",
    "n_images_total = len(df['image_id'].unique())\n",
    "n_boxes_total = len(df['image_id']) \n",
    "print('='*60)\n",
    "print('Total'.ljust(20) + str(n_images_total).ljust(10) + str(n_boxes_total).ljust(10) + str(n_boxes_total/n_images_total).ljust(10))"
   ]
  },
  {
   "cell_type": "markdown",
   "metadata": {},
   "source": [
    "### Histograms"
   ]
  },
  {
   "cell_type": "code",
   "execution_count": null,
   "metadata": {},
   "outputs": [],
   "source": [
    "cl ='person'"
   ]
  },
  {
   "cell_type": "code",
   "execution_count": null,
   "metadata": {},
   "outputs": [],
   "source": [
    "boxes_per_im = df['image_id'].value_counts()\n",
    "boxes_per_im_class = df[df['box_class'] == cl]['image_id'].value_counts()"
   ]
  },
  {
   "cell_type": "code",
   "execution_count": null,
   "metadata": {},
   "outputs": [],
   "source": [
    "q = boxes_per_im\n",
    "\n",
    "x_name = \"#boxes\"\n",
    "y_name = \"#images\"\n",
    "title_name = \"#boxes per image\" #+ \"\\n [class]: \" + cl\n",
    "nbins = 10\n",
    "\n",
    "print('Total (images): {:^5}'.format(len(q.values)))\n",
    "print('Total  (boxes): {:^5}'.format(np.sum(q.values)))\n",
    "print('Mean: {:^5}'.format(np.mean(q.values)))\n",
    "print('Max: {:^5}'.format(np.max(q.values)))\n",
    "print('Min: {:^5}'.format(np.min(q.values)))\n",
    "\n",
    "# calculate the histogram\n",
    "histo, bin_edges = np.histogram(q, nbins)\n",
    "\n",
    "# auxilary for histogram display\n",
    "bin_edges_ = bin_edges + (bin_edges[1] - bin_edges[0])/2\n",
    "bin_edges_ = bin_edges_[:-1]\n",
    "delta = bin_edges_[1] - bin_edges_[0]\n",
    "\n",
    "# plot histogram\n",
    "plt.bar(bin_edges_, histo, align='center', alpha=0.3, facecolor='g', width=delta)\n",
    "plt.xlabel(x_name)\n",
    "plt.ylabel(y_name)\n",
    "plt.title(title_name)\n",
    "plt.grid(True)\n"
   ]
  },
  {
   "cell_type": "code",
   "execution_count": null,
   "metadata": {},
   "outputs": [],
   "source": [
    "print(histo)"
   ]
  },
  {
   "cell_type": "markdown",
   "metadata": {},
   "source": [
    "### Some histograms"
   ]
  },
  {
   "cell_type": "code",
   "execution_count": null,
   "metadata": {},
   "outputs": [],
   "source": [
    "boxes_centers = df[['box_x', 'box_y']].values + df[['box_w', 'box_h']].values / 2\n",
    "boxes_centers_class = df[df['box_class'] == cl][['box_x', 'box_y']].values + df[df['box_class'] == cl][['box_w', 'box_h']].values / 2"
   ]
  },
  {
   "cell_type": "code",
   "execution_count": null,
   "metadata": {},
   "outputs": [],
   "source": [
    "plt.hist2d(boxes_centers[:,0], boxes_centers[:,1], (50, 50), cmap=plt.cm.jet)\n",
    "plt.colorbar()"
   ]
  },
  {
   "cell_type": "code",
   "execution_count": null,
   "metadata": {},
   "outputs": [],
   "source": [
    "plt.hist2d(boxes_centers_class[:,0], boxes_centers_class[:,1], (10, 10), cmap=plt.cm.jet)\n",
    "plt.colorbar()"
   ]
  },
  {
   "cell_type": "code",
   "execution_count": null,
   "metadata": {},
   "outputs": [],
   "source": []
  }
 ],
 "metadata": {
  "kernelspec": {
   "display_name": "Python 3",
   "language": "python",
   "name": "python3"
  },
  "language_info": {
   "codemirror_mode": {
    "name": "ipython",
    "version": 3
   },
   "file_extension": ".py",
   "mimetype": "text/x-python",
   "name": "python",
   "nbconvert_exporter": "python",
   "pygments_lexer": "ipython3",
   "version": "3.6.8"
  }
 },
 "nbformat": 4,
 "nbformat_minor": 2
}
